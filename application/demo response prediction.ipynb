{
 "cells": [
  {
   "cell_type": "code",
   "execution_count": null,
   "id": "ff0e10a2-4a8b-4d2f-b1cd-507f5cc6f101",
   "metadata": {},
   "outputs": [],
   "source": [
    "import scanpy as sc\n",
    "from sklearn.neighbors import KNeighborsClassifier\n",
    "from sklearn.svm import SVC\n",
    "\n",
    "from sklearn.metrics import classification_report\n",
    "from sklearn.metrics import roc_auc_score"
   ]
  },
  {
   "cell_type": "code",
   "execution_count": null,
   "id": "96e5024d-b56f-4c62-bcd2-ffe83e9972ce",
   "metadata": {},
   "outputs": [],
   "source": [
    "adata_emb_combine = sc.read_h5ad(\"/projects/site/gred/resbioai/liut61/adata_resposneprediction.h5ad\") #load trained embeddings\n"
   ]
  },
  {
   "cell_type": "code",
   "execution_count": null,
   "id": "536ac286-cd46-448e-96fd-10e0256fac92",
   "metadata": {},
   "outputs": [],
   "source": [
    "adata_train = adata_emb_combine[adata_emb_combine.obs['batch'] == 'reference']\n",
    "adata_test = adata_emb_combine[adata_emb_combine.obs['batch'] != 'reference']"
   ]
  },
  {
   "cell_type": "code",
   "execution_count": null,
   "id": "77035897-9ca8-4e97-9745-384234c0895e",
   "metadata": {},
   "outputs": [],
   "source": [
    "for C in [4.0, 4.5, 5.0, 5.5 ,6.0]:\n",
    "    neigh =SVC(C=C) # C=5 is the best option\n",
    "    neigh.fit(adata_train.X, adata_train.obs['Outcome'])\n",
    "    print(classification_report(neigh.predict(adata_test.X), adata_test.obs['Outcome'].values))"
   ]
  }
 ],
 "metadata": {
  "kernelspec": {
   "display_name": "Python 3 (ipykernel)",
   "language": "python",
   "name": "python3"
  },
  "language_info": {
   "codemirror_mode": {
    "name": "ipython",
    "version": 3
   },
   "file_extension": ".py",
   "mimetype": "text/x-python",
   "name": "python",
   "nbconvert_exporter": "python",
   "pygments_lexer": "ipython3",
   "version": "3.11.5"
  }
 },
 "nbformat": 4,
 "nbformat_minor": 5
}
