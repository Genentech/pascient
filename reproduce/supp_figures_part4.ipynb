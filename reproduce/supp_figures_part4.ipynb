{
 "cells": [
  {
   "cell_type": "markdown",
   "id": "dc56f534",
   "metadata": {},
   "source": [
    "# Figure 10"
   ]
  },
  {
   "cell_type": "code",
   "execution_count": 1,
   "id": "2bbc8807-5f34-4366-9aa5-ac19c6db7637",
   "metadata": {},
   "outputs": [
    {
     "name": "stderr",
     "output_type": "stream",
     "text": [
      "/home/debroue1/scratch/conda/envs/pascient/lib/python3.11/site-packages/h5py/__init__.py:36: UserWarning: h5py is running against HDF5 1.14.3 when it was built against 1.14.2, this may cause problems\n",
      "  _warn((\"h5py is running against HDF5 {0} when it was built against {1}, \"\n"
     ]
    }
   ],
   "source": [
    "import scanpy as sc"
   ]
  },
  {
   "cell_type": "code",
   "execution_count": 2,
   "id": "82df8beb-33a8-41a3-8ee5-e4c159429ccb",
   "metadata": {},
   "outputs": [
    {
     "name": "stderr",
     "output_type": "stream",
     "text": [
      "/home/debroue1/scratch/conda/envs/pascient/lib/python3.11/site-packages/anndata/_core/anndata.py:1818: UserWarning: Observation names are not unique. To make them unique, call `.obs_names_make_unique`.\n",
      "  utils.warn_names_duplicates(\"obs\")\n"
     ]
    }
   ],
   "source": [
    "adata_emb_combine = sc.read_h5ad(\"/projects/site/gred/resbioai/liut61/adata_resposneprediction.h5ad\")\n"
   ]
  },
  {
   "cell_type": "code",
   "execution_count": 3,
   "id": "dd989ec9-8d22-4549-bccd-838506d52720",
   "metadata": {},
   "outputs": [],
   "source": [
    "adata_train = adata_emb_combine[adata_emb_combine.obs['batch'] == 'reference']\n",
    "adata_test = adata_emb_combine[adata_emb_combine.obs['batch'] != 'reference']"
   ]
  },
  {
   "cell_type": "code",
   "execution_count": 4,
   "id": "1a44ab6a-cc31-4eb6-b0ad-f5f10a412d78",
   "metadata": {},
   "outputs": [
    {
     "name": "stdout",
     "output_type": "stream",
     "text": [
      "               precision    recall  f1-score   support\n",
      "\n",
      "Non-responder       1.00      0.47      0.64        15\n",
      "    Responder       0.00      0.00      0.00         0\n",
      "\n",
      "     accuracy                           0.47        15\n",
      "    macro avg       0.50      0.23      0.32        15\n",
      " weighted avg       1.00      0.47      0.64        15\n",
      "\n",
      "               precision    recall  f1-score   support\n",
      "\n",
      "Non-responder       1.00      0.50      0.67        14\n",
      "    Responder       0.12      1.00      0.22         1\n",
      "\n",
      "     accuracy                           0.53        15\n",
      "    macro avg       0.56      0.75      0.44        15\n",
      " weighted avg       0.94      0.53      0.64        15\n",
      "\n",
      "               precision    recall  f1-score   support\n",
      "\n",
      "Non-responder       0.71      0.71      0.71         7\n",
      "    Responder       0.75      0.75      0.75         8\n",
      "\n",
      "     accuracy                           0.73        15\n",
      "    macro avg       0.73      0.73      0.73        15\n",
      " weighted avg       0.73      0.73      0.73        15\n",
      "\n",
      "               precision    recall  f1-score   support\n",
      "\n",
      "Non-responder       0.29      0.50      0.36         4\n",
      "    Responder       0.75      0.55      0.63        11\n",
      "\n",
      "     accuracy                           0.53        15\n",
      "    macro avg       0.52      0.52      0.50        15\n",
      " weighted avg       0.63      0.53      0.56        15\n",
      "\n",
      "               precision    recall  f1-score   support\n",
      "\n",
      "Non-responder       0.00      0.00      0.00         1\n",
      "    Responder       0.88      0.50      0.64        14\n",
      "\n",
      "     accuracy                           0.47        15\n",
      "    macro avg       0.44      0.25      0.32        15\n",
      " weighted avg       0.82      0.47      0.59        15\n",
      "\n"
     ]
    },
    {
     "name": "stderr",
     "output_type": "stream",
     "text": [
      "/home/debroue1/scratch/conda/envs/pascient/lib/python3.11/site-packages/sklearn/metrics/_classification.py:1531: UndefinedMetricWarning: Recall is ill-defined and being set to 0.0 in labels with no true samples. Use `zero_division` parameter to control this behavior.\n",
      "  _warn_prf(average, modifier, f\"{metric.capitalize()} is\", len(result))\n",
      "/home/debroue1/scratch/conda/envs/pascient/lib/python3.11/site-packages/sklearn/metrics/_classification.py:1531: UndefinedMetricWarning: Recall is ill-defined and being set to 0.0 in labels with no true samples. Use `zero_division` parameter to control this behavior.\n",
      "  _warn_prf(average, modifier, f\"{metric.capitalize()} is\", len(result))\n",
      "/home/debroue1/scratch/conda/envs/pascient/lib/python3.11/site-packages/sklearn/metrics/_classification.py:1531: UndefinedMetricWarning: Recall is ill-defined and being set to 0.0 in labels with no true samples. Use `zero_division` parameter to control this behavior.\n",
      "  _warn_prf(average, modifier, f\"{metric.capitalize()} is\", len(result))\n"
     ]
    }
   ],
   "source": [
    "# In[177]:\n",
    "\n",
    "\n",
    "from sklearn.neighbors import KNeighborsClassifier\n",
    "from sklearn.svm import SVC\n",
    "\n",
    "\n",
    "# In[180]:\n",
    "\n",
    "\n",
    "from sklearn.metrics import classification_report\n",
    "from sklearn.metrics import roc_auc_score\n",
    "\n",
    "\n",
    "# In[179]:\n",
    "\n",
    "\n",
    "for C in [4.0, 4.5, 5.0, 5.5 ,6.0]:\n",
    "    neigh =SVC(C=C) # C=5 is the best option\n",
    "    neigh.fit(adata_train.X, adata_train.obs['Outcome'])\n",
    "    print(classification_report(neigh.predict(adata_test.X), adata_test.obs['Outcome'].values))\n",
    "\n",
    "# Then take the biggest weighted avg f1-score of all models ( and the same for the baseline )"
   ]
  },
  {
   "cell_type": "code",
   "execution_count": 5,
   "id": "4a51c871-ba4c-4e3c-a5a1-e52407059795",
   "metadata": {},
   "outputs": [
    {
     "name": "stderr",
     "output_type": "stream",
     "text": [
      "/home/debroue1/scratch/conda/envs/pascient/lib/python3.11/site-packages/tqdm/auto.py:21: TqdmWarning: IProgress not found. Please update jupyter and ipywidgets. See https://ipywidgets.readthedocs.io/en/stable/user_install.html\n",
      "  from .autonotebook import tqdm as notebook_tqdm\n"
     ]
    }
   ],
   "source": [
    "sc.pp.neighbors(adata_train, use_rep='X')\n",
    "sc.tl.umap(adata_train)"
   ]
  },
  {
   "cell_type": "code",
   "execution_count": 6,
   "id": "2d09709c-0aa0-4143-9db1-10a4884b3f45",
   "metadata": {},
   "outputs": [
    {
     "data": {
      "image/png": "[encoded data removed]",
      "text/plain": [
       "<Figure size 640x480 with 1 Axes>"
      ]
     },
     "metadata": {},
     "output_type": "display_data"
    }
   ],
   "source": [
    "sc.pl.umap(adata_train, color='Outcome', size=150)"
   ]
  },
  {
   "cell_type": "code",
   "execution_count": null,
   "id": "18b36730-19f8-446e-8619-3320a1d0bcb0",
   "metadata": {},
   "outputs": [],
   "source": []
  },
  {
   "cell_type": "code",
   "execution_count": null,
   "id": "610da047-06ff-48d5-8d40-030e98b40860",
   "metadata": {},
   "outputs": [],
   "source": []
  },
  {
   "cell_type": "markdown",
   "id": "e3353a83-11af-4db6-a748-0756a53272bd",
   "metadata": {},
   "source": [
    "# baseline"
   ]
  },
  {
   "cell_type": "code",
   "execution_count": 7,
   "id": "6e11e7da-506a-4e04-86c8-73417b2c72ae",
   "metadata": {},
   "outputs": [
    {
     "name": "stderr",
     "output_type": "stream",
     "text": [
      "/home/debroue1/scratch/conda/envs/pascient/lib/python3.11/site-packages/anndata/_core/anndata.py:1818: UserWarning: Observation names are not unique. To make them unique, call `.obs_names_make_unique`.\n",
      "  utils.warn_names_duplicates(\"obs\")\n"
     ]
    }
   ],
   "source": [
    "adata_combine = sc.read(\"/projects/site/gred/resbioai/liut61/adata_resposneprediction_pseodubulk.h5ad\")"
   ]
  },
  {
   "cell_type": "code",
   "execution_count": 8,
   "id": "0261d198-5bb5-499f-b60a-aac8cf4069eb",
   "metadata": {},
   "outputs": [],
   "source": [
    "adata_train_raw = adata_combine[adata_combine.obs['batch'] == 'reference']\n",
    "adata_test_raw = adata_combine[adata_combine.obs['batch'] != 'reference']"
   ]
  },
  {
   "cell_type": "code",
   "execution_count": 9,
   "id": "e82dae76-0c8d-4c25-a917-c428e9b08c67",
   "metadata": {
    "scrolled": true
   },
   "outputs": [
    {
     "name": "stderr",
     "output_type": "stream",
     "text": [
      "/home/debroue1/scratch/conda/envs/pascient/lib/python3.11/site-packages/sklearn/metrics/_classification.py:1531: UndefinedMetricWarning: Recall is ill-defined and being set to 0.0 in labels with no true samples. Use `zero_division` parameter to control this behavior.\n",
      "  _warn_prf(average, modifier, f\"{metric.capitalize()} is\", len(result))\n",
      "/home/debroue1/scratch/conda/envs/pascient/lib/python3.11/site-packages/sklearn/metrics/_classification.py:1531: UndefinedMetricWarning: Recall is ill-defined and being set to 0.0 in labels with no true samples. Use `zero_division` parameter to control this behavior.\n",
      "  _warn_prf(average, modifier, f\"{metric.capitalize()} is\", len(result))\n",
      "/home/debroue1/scratch/conda/envs/pascient/lib/python3.11/site-packages/sklearn/metrics/_classification.py:1531: UndefinedMetricWarning: Recall is ill-defined and being set to 0.0 in labels with no true samples. Use `zero_division` parameter to control this behavior.\n",
      "  _warn_prf(average, modifier, f\"{metric.capitalize()} is\", len(result))\n"
     ]
    },
    {
     "name": "stdout",
     "output_type": "stream",
     "text": [
      "               precision    recall  f1-score   support\n",
      "\n",
      "Non-responder       0.00      0.00      0.00         0\n",
      "    Responder       1.00      0.53      0.70        15\n",
      "\n",
      "     accuracy                           0.53        15\n",
      "    macro avg       0.50      0.27      0.35        15\n",
      " weighted avg       1.00      0.53      0.70        15\n",
      "\n"
     ]
    },
    {
     "name": "stderr",
     "output_type": "stream",
     "text": [
      "/home/debroue1/scratch/conda/envs/pascient/lib/python3.11/site-packages/sklearn/metrics/_classification.py:1531: UndefinedMetricWarning: Recall is ill-defined and being set to 0.0 in labels with no true samples. Use `zero_division` parameter to control this behavior.\n",
      "  _warn_prf(average, modifier, f\"{metric.capitalize()} is\", len(result))\n",
      "/home/debroue1/scratch/conda/envs/pascient/lib/python3.11/site-packages/sklearn/metrics/_classification.py:1531: UndefinedMetricWarning: Recall is ill-defined and being set to 0.0 in labels with no true samples. Use `zero_division` parameter to control this behavior.\n",
      "  _warn_prf(average, modifier, f\"{metric.capitalize()} is\", len(result))\n",
      "/home/debroue1/scratch/conda/envs/pascient/lib/python3.11/site-packages/sklearn/metrics/_classification.py:1531: UndefinedMetricWarning: Recall is ill-defined and being set to 0.0 in labels with no true samples. Use `zero_division` parameter to control this behavior.\n",
      "  _warn_prf(average, modifier, f\"{metric.capitalize()} is\", len(result))\n"
     ]
    },
    {
     "name": "stdout",
     "output_type": "stream",
     "text": [
      "               precision    recall  f1-score   support\n",
      "\n",
      "Non-responder       0.00      0.00      0.00         0\n",
      "    Responder       1.00      0.53      0.70        15\n",
      "\n",
      "     accuracy                           0.53        15\n",
      "    macro avg       0.50      0.27      0.35        15\n",
      " weighted avg       1.00      0.53      0.70        15\n",
      "\n"
     ]
    },
    {
     "name": "stderr",
     "output_type": "stream",
     "text": [
      "/home/debroue1/scratch/conda/envs/pascient/lib/python3.11/site-packages/sklearn/metrics/_classification.py:1531: UndefinedMetricWarning: Recall is ill-defined and being set to 0.0 in labels with no true samples. Use `zero_division` parameter to control this behavior.\n",
      "  _warn_prf(average, modifier, f\"{metric.capitalize()} is\", len(result))\n",
      "/home/debroue1/scratch/conda/envs/pascient/lib/python3.11/site-packages/sklearn/metrics/_classification.py:1531: UndefinedMetricWarning: Recall is ill-defined and being set to 0.0 in labels with no true samples. Use `zero_division` parameter to control this behavior.\n",
      "  _warn_prf(average, modifier, f\"{metric.capitalize()} is\", len(result))\n",
      "/home/debroue1/scratch/conda/envs/pascient/lib/python3.11/site-packages/sklearn/metrics/_classification.py:1531: UndefinedMetricWarning: Recall is ill-defined and being set to 0.0 in labels with no true samples. Use `zero_division` parameter to control this behavior.\n",
      "  _warn_prf(average, modifier, f\"{metric.capitalize()} is\", len(result))\n"
     ]
    },
    {
     "name": "stdout",
     "output_type": "stream",
     "text": [
      "               precision    recall  f1-score   support\n",
      "\n",
      "Non-responder       0.00      0.00      0.00         0\n",
      "    Responder       1.00      0.53      0.70        15\n",
      "\n",
      "     accuracy                           0.53        15\n",
      "    macro avg       0.50      0.27      0.35        15\n",
      " weighted avg       1.00      0.53      0.70        15\n",
      "\n"
     ]
    },
    {
     "name": "stderr",
     "output_type": "stream",
     "text": [
      "/home/debroue1/scratch/conda/envs/pascient/lib/python3.11/site-packages/sklearn/metrics/_classification.py:1531: UndefinedMetricWarning: Recall is ill-defined and being set to 0.0 in labels with no true samples. Use `zero_division` parameter to control this behavior.\n",
      "  _warn_prf(average, modifier, f\"{metric.capitalize()} is\", len(result))\n",
      "/home/debroue1/scratch/conda/envs/pascient/lib/python3.11/site-packages/sklearn/metrics/_classification.py:1531: UndefinedMetricWarning: Recall is ill-defined and being set to 0.0 in labels with no true samples. Use `zero_division` parameter to control this behavior.\n",
      "  _warn_prf(average, modifier, f\"{metric.capitalize()} is\", len(result))\n",
      "/home/debroue1/scratch/conda/envs/pascient/lib/python3.11/site-packages/sklearn/metrics/_classification.py:1531: UndefinedMetricWarning: Recall is ill-defined and being set to 0.0 in labels with no true samples. Use `zero_division` parameter to control this behavior.\n",
      "  _warn_prf(average, modifier, f\"{metric.capitalize()} is\", len(result))\n"
     ]
    },
    {
     "name": "stdout",
     "output_type": "stream",
     "text": [
      "               precision    recall  f1-score   support\n",
      "\n",
      "Non-responder       0.00      0.00      0.00         0\n",
      "    Responder       1.00      0.53      0.70        15\n",
      "\n",
      "     accuracy                           0.53        15\n",
      "    macro avg       0.50      0.27      0.35        15\n",
      " weighted avg       1.00      0.53      0.70        15\n",
      "\n",
      "               precision    recall  f1-score   support\n",
      "\n",
      "Non-responder       0.00      0.00      0.00         0\n",
      "    Responder       1.00      0.53      0.70        15\n",
      "\n",
      "     accuracy                           0.53        15\n",
      "    macro avg       0.50      0.27      0.35        15\n",
      " weighted avg       1.00      0.53      0.70        15\n",
      "\n"
     ]
    },
    {
     "name": "stderr",
     "output_type": "stream",
     "text": [
      "/home/debroue1/scratch/conda/envs/pascient/lib/python3.11/site-packages/sklearn/metrics/_classification.py:1531: UndefinedMetricWarning: Recall is ill-defined and being set to 0.0 in labels with no true samples. Use `zero_division` parameter to control this behavior.\n",
      "  _warn_prf(average, modifier, f\"{metric.capitalize()} is\", len(result))\n",
      "/home/debroue1/scratch/conda/envs/pascient/lib/python3.11/site-packages/sklearn/metrics/_classification.py:1531: UndefinedMetricWarning: Recall is ill-defined and being set to 0.0 in labels with no true samples. Use `zero_division` parameter to control this behavior.\n",
      "  _warn_prf(average, modifier, f\"{metric.capitalize()} is\", len(result))\n",
      "/home/debroue1/scratch/conda/envs/pascient/lib/python3.11/site-packages/sklearn/metrics/_classification.py:1531: UndefinedMetricWarning: Recall is ill-defined and being set to 0.0 in labels with no true samples. Use `zero_division` parameter to control this behavior.\n",
      "  _warn_prf(average, modifier, f\"{metric.capitalize()} is\", len(result))\n"
     ]
    }
   ],
   "source": [
    "for C in [4.0, 4.5, 5.0, 5.5 ,6.0]:\n",
    "    neigh =SVC(C=C)\n",
    "    neigh.fit(adata_train_raw.X, adata_train_raw.obs['Outcome'])\n",
    "    print(classification_report(neigh.predict(adata_test_raw.X), adata_test_raw.obs['Outcome'].values))"
   ]
  },
  {
   "cell_type": "code",
   "execution_count": null,
   "id": "3ec812d9-d347-4a05-9f33-62d9a3968a8e",
   "metadata": {},
   "outputs": [],
   "source": []
  },
  {
   "cell_type": "code",
   "execution_count": null,
   "id": "0c1a13a6",
   "metadata": {},
   "outputs": [],
   "source": []
  },
  {
   "cell_type": "code",
   "execution_count": null,
   "id": "c32d16cd",
   "metadata": {},
   "outputs": [],
   "source": []
  }
 ],
 "metadata": {
  "kernelspec": {
   "display_name": "Python 3 (ipykernel)",
   "language": "python",
   "name": "python3"
  },
  "language_info": {
   "codemirror_mode": {
    "name": "ipython",
    "version": 3
   },
   "file_extension": ".py",
   "mimetype": "text/x-python",
   "name": "python",
   "nbconvert_exporter": "python",
   "pygments_lexer": "ipython3",
   "version": "3.11.5"
  }
 },
 "nbformat": 4,
 "nbformat_minor": 5
}
