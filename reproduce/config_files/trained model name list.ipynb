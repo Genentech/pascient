{
 "cells": [
  {
   "cell_type": "code",
   "execution_count": 1,
   "id": "0e5eb54b-0eba-4486-a690-0a11a5751b8d",
   "metadata": {},
   "outputs": [
    {
     "name": "stderr",
     "output_type": "stream",
     "text": [
      "/home/liut61/miniforge3/envs/cellm/lib/python3.11/site-packages/tqdm/auto.py:21: TqdmWarning: IProgress not found. Please update jupyter and ipywidgets. See https://ipywidgets.readthedocs.io/en/stable/user_install.html\n",
      "  from .autonotebook import tqdm as notebook_tqdm\n"
     ]
    }
   ],
   "source": [
    "import sys\n",
    "sys.path.insert(0, \"../../\") #load the cellm outside of notebooks\n",
    "from rep_utils import CellClassifyModel"
   ]
  },
  {
   "cell_type": "code",
   "execution_count": 2,
   "id": "1c5e9a63-1df1-46fe-af00-cfa5ace1203f",
   "metadata": {},
   "outputs": [
    {
     "name": "stdout",
     "output_type": "stream",
     "text": [
      "9\n",
      "9\n"
     ]
    }
   ],
   "source": [
    "# GatedAttention\n",
    "class_model = CellClassifyModel.load_from_checkpoint(\"/projects/site/gred/resbioai/liut61/disease_class/disease2classlr1e4_wd1e4_batch32_epoch10_drop0.0_cells1500_multilabel_updatelabel_labelweight_gated_attention_new_epoch=07-val_accuracy=0.71.ckpt\", num_genes=28231, masking_strategy=None, attn = 'gated attention')"
   ]
  },
  {
   "cell_type": "code",
   "execution_count": 3,
   "id": "c7172618-2d4d-4296-bd6f-13c12cb2931b",
   "metadata": {},
   "outputs": [
    {
     "name": "stdout",
     "output_type": "stream",
     "text": [
      "9\n",
      "9\n"
     ]
    }
   ],
   "source": [
    "# LinearAttention\n",
    "class_model = CellClassifyModel.load_from_checkpoint(\"/projects/site/gred/resbioai/liut61/disease_class/disease2classlr1e4_wd1e4_batch32_epoch10_drop0.0_cells1500_multilabel_updatelabel_labelweight_linear_attn_new_epoch=01-val_accuracy=0.75.ckpt\", num_genes=28231, masking_strategy=None, attn = 'linear_attn', label_weight=True)"
   ]
  },
  {
   "cell_type": "code",
   "execution_count": 4,
   "id": "e73364a1-08fd-420c-b2e8-3e53646326c1",
   "metadata": {},
   "outputs": [
    {
     "name": "stdout",
     "output_type": "stream",
     "text": [
      "9\n",
      "9\n"
     ]
    }
   ],
   "source": [
    "# NonLinearAttention\n",
    "class_model = CellClassifyModel.load_from_checkpoint(\"/projects/site/gred/resbioai/liut61/disease_class/disease2classlr1e4_wd1e4_batch128_epoch10_drop0.0_cells1500_multilabel_updatelabel_labelweight_nonlinear-attn_new_epoch=09-val_accuracy=0.71 (current best).ckpt\", num_genes=28231, masking_strategy=None, attn = 'nonlinear_attn', batchnorm=False, mask_training=False, label_weight=True, n_dim=1024, n_hidden=512)"
   ]
  },
  {
   "cell_type": "code",
   "execution_count": 5,
   "id": "f9f206c2-6a12-4969-bf2d-4f0d4ab6990d",
   "metadata": {},
   "outputs": [
    {
     "name": "stdout",
     "output_type": "stream",
     "text": [
      "9\n",
      "9\n"
     ]
    }
   ],
   "source": [
    "# Mean\n",
    "class_model = CellClassifyModel.load_from_checkpoint(\"/projects/site/gred/resbioai/liut61/disease_class/disease2classlr1e4_wd1e4_batch32_epoch10_drop0.0_cells1500_multilabel_updatelabel_mean_new_epoch=03-val_accuracy=0.77.ckpt\", num_genes=28231, masking_strategy=None, attn = 'mean', batchnorm=False, label_weight=False)"
   ]
  },
  {
   "cell_type": "code",
   "execution_count": 7,
   "id": "441748d5-1b1f-4cd6-9b49-21820b6e38bc",
   "metadata": {},
   "outputs": [
    {
     "name": "stdout",
     "output_type": "stream",
     "text": [
      "9\n",
      "9\n"
     ]
    }
   ],
   "source": [
    "# Transformer\n",
    "class_model = CellClassifyModel.load_from_checkpoint(\"/projects/site/gred/resbioai/liut61/disease_class/disease2classlr1e4_wd1e4_batch32_epoch10_drop0.0_cells1500_multilabel_updatelabel_labelweight_transformer1_new_epoch=02-val_accuracy=0.74.ckpt\", num_genes=28231, masking_strategy=None, attn = 'transformer', batchnorm=False, label_weight=True)"
   ]
  },
  {
   "cell_type": "code",
   "execution_count": null,
   "id": "62b41ab7-0b72-4004-bcb5-94d1aa2ab787",
   "metadata": {},
   "outputs": [],
   "source": []
  },
  {
   "cell_type": "code",
   "execution_count": 8,
   "id": "08224681-44de-4f55-af76-7e58dd4844d1",
   "metadata": {},
   "outputs": [
    {
     "name": "stdout",
     "output_type": "stream",
     "text": [
      "9\n",
      "9\n"
     ]
    }
   ],
   "source": [
    "# oversample d\n",
    "class_model = CellClassifyModel.load_from_checkpoint(\"/projects/site/gred/resbioai/liut61/disease_class/disease2classlr1e4_wd1e4_batch32_epoch40_drop0.0_cells1500_multilabel_updatelabele_oversampler_ftcount_nonlinear-attn_epoch=01-val_accuracy=0.71.ckpt\", num_genes=28231, masking_strategy=None, attn = 'nonlinear_attn', batchnorm=False, label_weight=False)"
   ]
  },
  {
   "cell_type": "code",
   "execution_count": 9,
   "id": "b3dc7ad8-792f-4d93-8c3b-260c0b938f6d",
   "metadata": {},
   "outputs": [
    {
     "name": "stdout",
     "output_type": "stream",
     "text": [
      "9\n",
      "9\n"
     ]
    }
   ],
   "source": [
    "#downsample d\n",
    "class_model = CellClassifyModel.load_from_checkpoint(\"/projects/site/gred/resbioai/liut61/disease_class/disease2classlr1e4_wd1e4_batch32_epoch10_drop0.0_cells1500_multilabel_updatelabel_downsampledisease_nonlinear-attn_new_epoch=07-val_accuracy=0.15.ckpt\", num_genes=28231, masking_strategy=None, attn = 'nonlinear_attn', batchnorm=False, label_weight=False)"
   ]
  },
  {
   "cell_type": "code",
   "execution_count": 10,
   "id": "104334b1-8fb4-46f5-9db0-05949fbfe0b9",
   "metadata": {},
   "outputs": [
    {
     "name": "stdout",
     "output_type": "stream",
     "text": [
      "9\n",
      "9\n"
     ]
    }
   ],
   "source": [
    "# oversample t\n",
    "class_model = CellClassifyModel.load_from_checkpoint(\"/projects/site/gred/resbioai/liut61/disease_class/disease2classlr1e4_wd1e4_batch32_epoch4_drop0.0_cells1500_multilabel_updatelabel_tissue_nonlinear-attn_new_epoch=01-val_accuracy=0.77.ckpt\", num_genes=28231, masking_strategy=None, attn = 'nonlinear_attn', batchnorm=False, label_weight=False)"
   ]
  },
  {
   "cell_type": "code",
   "execution_count": 11,
   "id": "9cd06cc3-7c28-4b27-ba05-856eac05e776",
   "metadata": {},
   "outputs": [
    {
     "name": "stdout",
     "output_type": "stream",
     "text": [
      "9\n",
      "9\n"
     ]
    }
   ],
   "source": [
    "# oversample d+t\n",
    "class_model = CellClassifyModel.load_from_checkpoint(\"/projects/site/gred/resbioai/liut61/disease2classlr1e4_wd1e4_batch32_epoch20_drop0.0_cells1500_multilabel_updatelabel_diseasetissue_labelweight_ftcount_nonlinear-attn_new_epoch=00-val_accuracy=0.77 (t068).ckpt\", num_genes=28231, masking_strategy=None, attn = 'nonlinear_attn', classify_mode = 'multilabel', )"
   ]
  },
  {
   "cell_type": "code",
   "execution_count": null,
   "id": "7c9a64b7-990b-420b-8582-bf9273d1140e",
   "metadata": {},
   "outputs": [],
   "source": []
  }
 ],
 "metadata": {
  "kernelspec": {
   "display_name": "Python 3 (ipykernel)",
   "language": "python",
   "name": "python3"
  },
  "language_info": {
   "codemirror_mode": {
    "name": "ipython",
    "version": 3
   },
   "file_extension": ".py",
   "mimetype": "text/x-python",
   "name": "python",
   "nbconvert_exporter": "python",
   "pygments_lexer": "ipython3",
   "version": "3.11.5"
  }
 },
 "nbformat": 4,
 "nbformat_minor": 5
}
